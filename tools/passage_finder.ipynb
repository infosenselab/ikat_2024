{
 "cells": [
  {
   "cell_type": "markdown",
   "metadata": {
    "id": "HpZ-0OvGAkt3"
   },
   "source": [
    "# Passage Finder\n"
   ]
  },
  {
   "cell_type": "markdown",
   "metadata": {},
   "source": [
    "Vars"
   ]
  },
  {
   "cell_type": "code",
   "execution_count": 2,
   "metadata": {},
   "outputs": [],
   "source": [
    "use_cuda = False"
   ]
  },
  {
   "cell_type": "markdown",
   "metadata": {},
   "source": [
    "Paths\n"
   ]
  },
  {
   "cell_type": "code",
   "execution_count": null,
   "metadata": {},
   "outputs": [
    {
     "name": "stdout",
     "output_type": "stream",
     "text": [
      "/data/ikat_2024/ikat2023_passages/collection\n",
      "/data/ikat_2024/ikat2023_passages/index\n",
      "/data/ikat_2024/topics\n"
     ]
    }
   ],
   "source": [
    "import sys\n",
    "import os\n",
    "\n",
    "# make files one level up importable\n",
    "current_directory = os.getcwd()\n",
    "parent_directory = os.path.dirname(current_directory)\n",
    "sys.path.insert(0, parent_directory)\n",
    "\n",
    "import settings\n",
    "\n",
    "# store paths\n",
    "collection_path = settings.COLLECTION_PATH\n",
    "index_path = f'{settings.INDEX_PATH}'\n",
    "topics_path =settings.TOPICS_PATH\n",
    "\n",
    "# verify paths\n",
    "print(collection_path)\n",
    "print(index_path)\n",
    "print(topics_path)\n",
    "\n"
   ]
  },
  {
   "cell_type": "code",
   "execution_count": null,
   "metadata": {},
   "outputs": [],
   "source": [
    "from pyserini.search.lucene import LuceneSearcher\n",
    "\n",
    "# init searcher\n",
    "searcher = LuceneSearcher(index_path)\n"
   ]
  },
  {
   "cell_type": "markdown",
   "metadata": {},
   "source": [
    "Print a specific passage"
   ]
  },
  {
   "cell_type": "code",
   "execution_count": null,
   "metadata": {},
   "outputs": [
    {
     "name": "stdout",
     "output_type": "stream",
     "text": [
      "{\n",
      "  \"id\" : \"clueweb22-en0004-43-04866:6\",\n",
      "  \"contents\" : \"However, since people prefer eating regional food, you’ll most likely find this dish in Rome everywhere, but in other regions just rarely. A quick and easy dish with spicy peppers, tomato, some garlic, and parsley. Perfect for those who love spicy food! If you’re in Rome, make sure to check the best restaurants in Trastevere, so you could try this authentic dish in an authentic neighborhood. 4. Gnocchi ai Quattro Formaggi If there’s one dish I must choose from this list of amazing Italian pasta dishes, is definitely the Gnocchi ai Quattro Formaggi. It’s actually not even a pasta dish, since the gnocchi is made of potatoes, but well, it couldn’t miss the list. I wouldn’t put it in the category of classic Italian pasta dishes, but it is indeed one of the most delicious things to try! For those who love cheese, this is a great alternative for authentic Italian pasta dishes. Gnocchi ai Quattro Formaggi is made with Grgonzola, Parmigiano Reggiano, Fontina, and Emmentaler.\",\n",
      "  \"url\" : \"https://italybest.com/10-best-italian-pasta-dishes-you-must-try/\"\n",
      "}\n",
      "\n",
      "{\n",
      "  \"id\" : \"clueweb22-en0004-94-06539:4\",\n",
      "  \"contents\" : \"Similar to pasta and pizza dishes in Italy, there are a diversity of regional variations of the arancini. The regional specialties are made with different fillings and shapes depending on the location that the dish is prepared in. Some examples include the arancini con ragù (containing tomato sauce, rice and mozzarella), arancini con burro (made with creamy béchamel sauce), arancini con funghi and arancini con melanzane. Why not try this classic Italian dish with local hosts Antonella and Paola if you happen to be in Rome during your trip to Italy? 3. Lasagne Believed to have originated from the city of Naples, this well-loved and yet another classic Italian dish is made by baking sheets of lasagne pasta layered with cheese, ground meat, vegetables and different varieties of sauces, such as the ragù, bechamel or tomato sauce. This dish should definitely not be missed out on if you want to have a taste of true Italian cuisine. 4. Osso buco alla Milanese Meat lovers will rejoice at the thought of tucking into the osso buco alla Milanese! Tender veal shanks, braised slowly in white wine, is served with an array of vegetables. A serving of aromatic gremolata, a condiment made with lemon zest, garlic and parsley, is added to complete the dish. The meal does not end when you have finished the meat and vegetables, for the best part of the dish lies in scooping out and savouring the creamy marrow from the bones of the veal.\",\n",
      "  \"url\" : \"https://www.bonappetour.com/blog/italys-must-eat-foods-12-delicacies-not-to-be-missed/\"\n",
      "}\n",
      "\n",
      "{\n",
      "  \"id\" : \"clueweb22-en0012-23-13270:2\",\n",
      "  \"contents\" : \"A trip to Italy is not complete without savouring the excellent thin-crust pizzas and pasta dishes widely found in local eateries lining the streets. Apart from these well-loved favourites, there is also an array of must-try local delights, such as the crispy arancini and hearty ribollita, that travellers should not miss out on. However, feasting on these delicacies alone may not be enough. Would it not be a better option to try your hand at cooking up a storm of Italian dishes in the kitchen? Sign up for a culinary class, and learn the art of Italian cooking from your gregarious and enthusiastic instructor. Apart from gaining a wealth of handy cooking tips, you will also garner insights on the fascinating history and food culture of the locals. 3. Mealsharing: Dine with the Locals! Browse through a social dining platform, and you will find a wide selection of passionate cooks who are eager to open up their homes and hearts to you. These chefs, skilled in the art of whipping up authentic Italian cuisine, cordially invite travellers for a feast in their homes.\",\n",
      "  \"url\" : \"https://www.bonappetour.com/blog/foodie-guide-5-unique-dining-experiences-in-italy/\"\n",
      "}\n",
      "\n",
      "{\n",
      "  \"id\" : \"clueweb22-en0020-97-03176:0\",\n",
      "  \"contents\" : \"Menu – Luna Rossa Le Insalate Ortolana Mixed baby lettuce, roasted bell peppers, marinated eggplant, zucchini, goat cheese with aged balsamic dressing Lattughine Miste Mixed baby greens, carrot and tomatoes with balsamic dressing Cesare Romaine lettuce with traditional Caesar dressing Salmone Con Patate Grilled salmon, potatoes, baby lettuce, green beans and cherry tomatoes. With lemon and rice vinegar dressing Caprese Mozzarella and tomato slices with basil, kalamata olives, Extra virgin olive oil Antipasti Bruschetta Al Pomodoro Toasted crispy bread topped with tomato, basil, garlic, celery and extra virgin olive oil Zuppetta Di Cozze E Vongole Mussels and clams in a spiced tomato and garlic broth Melanzane Alla Parmigiana Baked eggplant with tomato sauce, basil, mozzarella and parmigiano Zucchine Fritte Golden Crispy Fry Zucchini with side marinara Carpaccio Di Bue Thin slices of raw beef served with celery and shaved parmigiano Gnocchetti Fritti Asiago cheese filled fried potato dumplings, served with marinara sauce Calamari Fritti Golden fried calamari with a spicy tomato sauce aside Crostini Della Tradizione Toasted crispy bread topped with melted mozzarella, Italian prosciutto and sage Prosciutto & Mozzarella Prosciutto Parma Style and Fresh Buffalo Mozzarella Minestrone Vegetable Soup I Primi Spaghetti Al Pomodoro Spaghetti pasta, garlic, basil and tomato sauce Rigatoni Ai Funghi Tube pasta with mushroom and shallots in a pink vodka sauce Penne Al Pollo E Broccoli Small tube pasta in a light cream sauce with chicken, broccoli, shallots and sun dried tomatoes Capellini Con Calamari Angel hair pasta with calamari, garlic and mild spicy tomato sauce Penne Al Salmone Affumicato Small tube pasta with smoked salmon, peas and shallots in a pink vodka sauce Spaghetti Meatballs Spaghetti pasta with meatballs in marinara sauce Risotto Ai Funghi Italian rice with mushroom, garlic, white wine sauce Linguine Pescatora Linguine with seafood combination in light tomato garlic sauce Lasagna Classica Home made lasagna, with classic meat sauce, tomato sauce, ricotta, mushroom and Besciamella Linguine Alle Vongole Linguine with clams in a light spiced white wine and garlic sauce Risotto Alla Pescatora Italian Arborio rice with seafood combination in light tomato garlic sauce Spaghetti Alla Aragosta Spaghetti pasta with S.A. Lobster tail in lightly spiced tomato sauce I Secondi Petto Di Pollo Ai Funghi Grilled chicken breast in a mushroom sauce served with vegetables and roasted potatoes Pollo Alla Parmigiana Sauteed chicken breast in a light tomato and oregano sauce, topped with melted mozzarella cheese, served with vegetables and roasted potatoes Cotoletta Di Pollo Breaded and pan fried chicken paillard served with spring mix, Tomato and onion salad Salmone All' Aceto Balsamico* Grilled salmon over a bed of green salad with eight years old balsamic vinegar reduction served with mixed vegetables and roasted potatoes Filetto Di Sogliola Alla Mugnaia* Filet of sole sauteed butter lemon sauce with capers served with vegetables and roasted potatoes Tagliata Di Bue* Grilled New York steak sliced and served on a bed of green salad and roasted potatoes in a red wine, garlic and rosemary sauce Cotoletta Di Vitello Alla Milanese Breaded and pan fried veal scaloppini served with tricolor salad Piccata Ai Limone Thin veal sauteed in a lemon and caper sauce, served with roasted potatoes and vegetables PRIME STEAKS - COMBOS - CHOPS Served with vegetables and potatoes Filet Mignon U.S.D.A. Prime Beef 8 oz Grilled* Braciola Di Vitella* Grilled 14 oz Veal Chop Costolette Di Abbacchio Al Rosmarino * Grilled Lamb Chops with rosemary garlic white wine sauce Rib Eye Steak U.S.D.A. Prime Beef 14 oz Grilled * Filet Mignon U.S.D.A. Prime Beef 8 Oz. & Broiled Split Lobster Tail* Two Broiled Lobster Tail 8 oz each* Pasta substitution available for vegetables and potato for $4.00 charge, no homemade pasta substitution *The Nevada Health Dept would like us to inform you that eating raw or under-cooked meats raises the risk for certain food borne illnesses. Pasta Fatta In Casa Homemade Pasta Ravioli Ricotta E Spinaci Spinach and Ricotta cheese Ravioli with roasted Garlic, Tomato filet and marinara sauce sprinkle with soft Pecorino Cheese Ravioli Salsiccia E Brocoletti Sausages and Baby Broccoli filled Ravioli in Tomato sauce with mushroom and Bell Pepper Strozza Preti Con Pomodorini E Gamberi Strozzapreti pasta with Shrimp in Cherry Tomato Garlic White Wine sauce Tortellacci Ripieni Di Brasato Di Manzo Tortellacci filled with Red Wine Braised Beef Short Ribs in Truffle cream sauce Gnocchi Alla Sorrentina Homemade Potato dumplings with fresh Buffalo Mozzarella Cheese, Basil Tomato sauce Fagottino Di Piselli Sweet Peas filled Fagottino pasta in Pink Pesto Sauce Ravioli Alla Aragosta E Gamberoni Lobster Ravioli and Tiger Shrimp in Vodka Pink sauce Manicotti Ricotta E Spinaci Rolled Pasta stuffed with spinach and Ricotta cheese.   Served with tomato basil sauce and melted mozzarella cheese Gnocchi Di Pomodori Secchi E Prosciutto Sundried Tomato Potato dumplings in Spinach Alfredo sauce topped with Parma Prosciutto Gnocchi Verdi Al Ragu Spinach Potato dumplings in a homemade Beef Bolognese sauce Cannelloni Di Carne Rolled Pasta stuffed with beef pork and chicken. Served with Besciamella and tomato sauce Tortellini Di Pollo Chicken filled pasta with Alfredo sauce, mushrooms and green peas Fettuccine In Alfredo Or Bolognese Egg fettuccine with Alfredo or Bolognese meat sauce Pappardelle Zafferano E Gamberi Large Pappardelle pasta in Creamy Saffron Sauce with Shrimp Le Pizze Margherita Tomato sauce, mozzarella & Basil Quattro Formaggi Mozzarella, Fontina, Parmesan, Gorgonzola cheese & Alfredo sauce Salsiccia Tomato sauce, mozzarella & Italian sausage Pepperoni Tomato sauce, mozzarella & pepperoni Pollo E Broccoli Tomato sauce, mozzarella, chicken & broccoli Funghi Tomato sauce, mozzarella & mushroom Luna Rossa Tomato sauce, mozzarella, mushroom, black olives & mix vegetables Caprese Slides fresh tomato, slides fresh mozzarella & Basil Prosciutto Tomato sauce, mozzarella & Prosciutto Crudo Quattro Stagioni Tomato sauce, mozzarella, mushroom, Prosciutto, black olives & baby artichokes Additional topping $ 2.00 each All menu prices subject to change. Sorry, no personal checks. We reserve the right to refuse service to anyone. Not responsible for lost or stole articles. Water upon request only.\",\n",
      "  \"url\" : \"https://lunarossallv.com/menu/\"\n",
      "}\n",
      "\n",
      "{\n",
      "  \"id\" : \"clueweb22-en0022-45-05799:9\",\n",
      "  \"contents\" : \"Personally, I love lasagne with chicken. But you can also use a thinly sliced, cooked Italian sausage (chicken, beef, pork or a mixture is fine). Or, take that sausage out of the casing and cook it to crumbles instead of slicing it thin (my preferred method). Ground chicken, turkey, or pork can be substituted in a pinch as well. One other option is to go vegetarian with this dish — use a combination of the veggies above and none of the meat for an all-vegetable lasagne. It is super tasty and pleases both vegetarians and meat-eaters alike for its delicious sauces and flavors. No one will even miss the meat! Easy White Chicken Lasagna with Spinach White Chicken Lasagna with Spinach is the creamiest, dreamiest, cheesiest white lasagne you’ll ever have the pleasure of eating. Perfect for the family, dinner guests, or for keeping all to yourself. 4.98 from 125 votes Print Pin Rate Prep Time: 20 minutes Cook Time: 45 minutes 0 minutes Total Time: 1 hour 5 minutes Servings: 6 servings Ingredients sauce ▢ 3 tablespoons butter ▢ 2 teaspoons minced garlic ▢ 3 tablespoons flour ▢ 2 ½ cups whole milk - or half and half ▢ salt - to taste ▢ ¼ cup grated parmesan cheese ▢ 4 ounces cream cheese - softened lasagna ▢ ¾ cup ricotta cheese ▢ 1 egg ▢ 8 dried lasagna noodles - cooked according to package instructions ▢ 2 cups cooked chicken - cut into bite size pieces ▢ 2 cups shredded mozzarella cheese ▢ ¼ cup grated parmesan cheese ▢ 4 cups baby spinach leaves Instructions Preheat oven to 400 degrees.\",\n",
      "  \"url\" : \"https://www.lecremedelacrumb.com/easy-white-chicken-lasagna-with-spinach/\"\n",
      "}\n",
      "\n",
      "{\n",
      "  \"id\" : \"clueweb22-en0022-85-11301:3\",\n",
      "  \"contents\" : \"2 . Arancini Crisp and golden brown, arancini refers to a dish of stuffed rice balls. The rice balls are fried after being coated in a dusting of  crunchy breadcrumbs. These rice balls are usually filled with ragù, tomato sauce, mozzarella and peas. Similar to pasta and pizza dishes in Italy, there are a diversity of regional variations of the arancini. The regional specialties are made with different fillings and shapes depending on the location that the dish is prepared in. Some examples include the arancini con ragù (containing tomato sauce, rice and mozzarella), arancini con burro (made with creamy béchamel sauce), arancini con funghi and arancini con melanzane. Why not try this classic Italian dish with local hosts Antonella and Paola if you happen to be in Rome during your trip to Italy? 3. Lasagne Believed to have originated from the city of Naples, this well-loved and yet another classic Italian dish is made by baking sheets of lasagne pasta layered with cheese, ground meat, vegetables and different varieties of sauces, such as the ragù, bechamel or tomato sauce. This dish should definitely not be missed out on if you want to have a taste of true Italian cuisine.\",\n",
      "  \"url\" : \"https://ilfornocabosanlucas.com/traditional-italy-foods-top-10-famous-italian-dishes/\"\n",
      "}\n",
      "\n",
      "{\n",
      "  \"id\" : \"clueweb22-en0025-30-12295:8\",\n",
      "  \"contents\" : \"4 – Pita Bread and Hummus Hummus is a delicious and popular Mediterranean dip that many people enjoy. It goes great with pita bread or crackers, so it’s a versatile dish that can also be eaten as an appetizer if need be. It goes well with arancini balls because it is another Mediterranean dish. Although you can’t have too many Italian dishes at the same meal without making things repetitive, having these two dishes together works excellently. Hummus and pita bread goes well with arancini balls because they are both dishes that originate from the Mediterranean. You might be surprised at how much your guests will enjoy these side dishes alongside your main course. 5 – Grape Tomatoes and Basil Grape tomatoes, as well as basil, can make for excellent appetizers or side dishes. You can make basil and grape tomato salad or put the tomatoes and basil alongside crusty bread with olive oil and balsamic vinegar. This side dish goes well with arancini balls because it pairs well with Mediterranean food, which is what your meal will most likely consist of if you’re serving arancini balls as the main course. Grape tomatoes and basil go well with arancini balls because they are Mediterranean dishes, making them a great option to serve alongside your meal.\",\n",
      "  \"url\" : \"https://eatdelights.com/arancini-balls-sides/\"\n",
      "}\n",
      "\n",
      "{\n",
      "  \"id\" : \"clueweb22-en0028-63-14398:0\",\n",
      "  \"contents\" : \"Arancini – Like Mother, Like Daughter Home » Pasta and Pizza Recipes » Arancini Arancini Created On: October 18, 2021 | Updated: October 21, 2021 | 5 Comments | Jump to Recipe These Arancini are such a delicious Sicilian and Italian food. They’re crispy fried rice balls stuffed with a delicious meaty mixture, so good for an appetizer or dinner. One of the first dishes I ate when we were in Italy was arancini (or arancine if you are in Palermo). I loved them right away, and was so thrilled when one of my new Italian friends agreed to teach me how to make them!   Floriana is such a sweet heart, and thankfully speaks English so we became instant friends. I know I should practice speaking Italian, but I am at least learning to cook some Italian dishes 😉 We are sharing a ragu arancini, which means our arancini are full of a delicious tomato and meat sauce. I hope you enjoy this tradition Sicilian dish of arancini as much as we do! If I can make them, I promise that means you can too. A fun time to make them would be during the 2nd week of September to celebrate the Arancino Festival, and enjoy eating arancini all day long. I know I plan to.  \",\n",
      "  \"url\" : \"https://lmld.org/arancini/\"\n",
      "}\n",
      "\n",
      "{\n",
      "  \"id\" : \"clueweb22-en0041-75-14570:7\",\n",
      "  \"contents\" : \"Aranchini Arancini is a typical Italian dish of stuffed rice balls, coated in breadcrumbs and fried Arancini was first developed as a way to make use of leftover risotto by creating a uniquely Italian snack. Arancini are stuffed rice balls coated in flour and breadcrumbs and fried to a golden brown colour, but there are numerous variations of arancini depending on region including: Arancini con ragù – utilising the famous Italian tomato, meat sauce ragu with mozzarella and peas Arancini con burro – made with butter or bechamel sauce Arancini con funghi – a mushroom alternative Arancini con pistacchi – using pistachios Arancini con melanzane – an aubergine twist Arancini con ragù is the most common type of arancini however, and can be found all around Italy. Or you Our favorite Arancini recipe. Ragù alla Bolognese Traditional Italian ragù alla bolognese If you ever go to Italy, don’t ask for spaghetti bolognese. Whilst spaghetti bolognese is considered Italian to those outside of Italy, it’s not actually an authentic Italian dish. However, there are similarities with Ragù alla bolognese which uses fresh tagliatelle instead of dried spaghetti and is less heavy on the tomato sauce. Furthermore, the dish doesn’t use oregano, basil or garlic like a spaghetti bolognese does, and certainly doesn’t go anywhere near cheddar cheese! Ragu is a meat-based sauce used in many Italian pasta dishes and is made with ground meat, finely chopped sauteed celery and carrot, tomatoes, red wine, stock and milk, cooked on a very low heat for 3 or more hours. The ingredients vary by region in Italy and can include different meats and liquids, and can often exclude tomatoes. Our favorite Ragu alla Bolognese recipe Neapolitan pizza A traditional Italian style pizza Pizza is the most exported dish of all traditional Italian dishes, being eaten in nearly every country in the world.\",\n",
      "  \"url\" : \"https://travelfoodatlas.com/italian-food\"\n",
      "}\n",
      "\n",
      "\n"
     ]
    }
   ],
   "source": [
    "import textwrap\n",
    "\n",
    "passage_list = ['clueweb22-en0004-43-04866:6', 'clueweb22-en0004-94-06539:4', 'clueweb22-en0012-23-13270:2', 'clueweb22-en0020-97-03176:0', 'clueweb22-en0022-45-05799:9', 'clueweb22-en0022-85-11301:3', 'clueweb22-en0025-30-12295:8', 'clueweb22-en0028-63-14398:0', 'clueweb22-en0041-75-14570:7']\n",
    "\n",
    "# initialize string to accumulate content\n",
    "all_content = \"\"\n",
    "\n",
    "def fetch_and_return_content(doc_id):\n",
    "    document = searcher.doc(doc_id)  # fetch by ID\n",
    "    content = document.raw()  # get document content of the document\n",
    "    #content = textwrap.fill(content, width=100)  # wrap the text\n",
    "    return content\n",
    "\n",
    "\n",
    "# iterate and print their content\n",
    "for passage in passage_list:\n",
    "    content = fetch_and_return_content(passage)\n",
    "    all_content += content + \"\\n\\n\"  \n",
    "    \n",
    "    \n",
    "print(all_content)"
   ]
  }
 ],
 "metadata": {
  "colab": {
   "provenance": []
  },
  "kernelspec": {
   "display_name": "Python 3",
   "name": "python3"
  },
  "language_info": {
   "codemirror_mode": {
    "name": "ipython",
    "version": 3
   },
   "file_extension": ".py",
   "mimetype": "text/x-python",
   "name": "python",
   "nbconvert_exporter": "python",
   "pygments_lexer": "ipython3",
   "version": "3.11.8"
  }
 },
 "nbformat": 4,
 "nbformat_minor": 0
}
